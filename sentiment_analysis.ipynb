{
 "cells": [
  {
   "cell_type": "code",
   "execution_count": 134,
   "id": "9aa3e2ae",
   "metadata": {},
   "outputs": [
    {
     "name": "stdout",
     "output_type": "stream",
     "text": [
      "hello\n"
     ]
    }
   ],
   "source": [
    "print(\"hello\")"
   ]
  },
  {
   "cell_type": "code",
   "execution_count": 135,
   "id": "3aafaa11",
   "metadata": {},
   "outputs": [],
   "source": [
    "import numpy as np\n",
    "import pandas as pd\n"
   ]
  },
  {
   "cell_type": "code",
   "execution_count": 136,
   "id": "0a39a22e",
   "metadata": {},
   "outputs": [],
   "source": [
    "tweet_df=pd.read_csv('fifa_world_cup_2022_tweets.csv')"
   ]
  },
  {
   "cell_type": "code",
   "execution_count": 137,
   "id": "46fd33b2",
   "metadata": {},
   "outputs": [
    {
     "data": {
      "text/html": [
       "<div>\n",
       "<style scoped>\n",
       "    .dataframe tbody tr th:only-of-type {\n",
       "        vertical-align: middle;\n",
       "    }\n",
       "\n",
       "    .dataframe tbody tr th {\n",
       "        vertical-align: top;\n",
       "    }\n",
       "\n",
       "    .dataframe thead th {\n",
       "        text-align: right;\n",
       "    }\n",
       "</style>\n",
       "<table border=\"1\" class=\"dataframe\">\n",
       "  <thead>\n",
       "    <tr style=\"text-align: right;\">\n",
       "      <th></th>\n",
       "      <th>Unnamed: 0</th>\n",
       "      <th>Date Created</th>\n",
       "      <th>Number of Likes</th>\n",
       "      <th>Source of Tweet</th>\n",
       "      <th>Tweet</th>\n",
       "      <th>Sentiment</th>\n",
       "    </tr>\n",
       "  </thead>\n",
       "  <tbody>\n",
       "    <tr>\n",
       "      <th>0</th>\n",
       "      <td>0</td>\n",
       "      <td>2022-11-20 23:59:21+00:00</td>\n",
       "      <td>4</td>\n",
       "      <td>Twitter Web App</td>\n",
       "      <td>What are we drinking today @TucanTribe \\n@MadB...</td>\n",
       "      <td>neutral</td>\n",
       "    </tr>\n",
       "    <tr>\n",
       "      <th>1</th>\n",
       "      <td>1</td>\n",
       "      <td>2022-11-20 23:59:01+00:00</td>\n",
       "      <td>3</td>\n",
       "      <td>Twitter for iPhone</td>\n",
       "      <td>Amazing @CanadaSoccerEN  #WorldCup2022 launch ...</td>\n",
       "      <td>positive</td>\n",
       "    </tr>\n",
       "    <tr>\n",
       "      <th>2</th>\n",
       "      <td>2</td>\n",
       "      <td>2022-11-20 23:58:41+00:00</td>\n",
       "      <td>1</td>\n",
       "      <td>Twitter for iPhone</td>\n",
       "      <td>Worth reading while watching #WorldCup2022 htt...</td>\n",
       "      <td>positive</td>\n",
       "    </tr>\n",
       "    <tr>\n",
       "      <th>3</th>\n",
       "      <td>3</td>\n",
       "      <td>2022-11-20 23:58:33+00:00</td>\n",
       "      <td>1</td>\n",
       "      <td>Twitter Web App</td>\n",
       "      <td>Golden Maknae shinning bright\\n\\nhttps://t.co/...</td>\n",
       "      <td>positive</td>\n",
       "    </tr>\n",
       "    <tr>\n",
       "      <th>4</th>\n",
       "      <td>4</td>\n",
       "      <td>2022-11-20 23:58:28+00:00</td>\n",
       "      <td>0</td>\n",
       "      <td>Twitter for Android</td>\n",
       "      <td>If the BBC cares so much about human rights, h...</td>\n",
       "      <td>negative</td>\n",
       "    </tr>\n",
       "  </tbody>\n",
       "</table>\n",
       "</div>"
      ],
      "text/plain": [
       "   Unnamed: 0               Date Created  Number of Likes  \\\n",
       "0           0  2022-11-20 23:59:21+00:00                4   \n",
       "1           1  2022-11-20 23:59:01+00:00                3   \n",
       "2           2  2022-11-20 23:58:41+00:00                1   \n",
       "3           3  2022-11-20 23:58:33+00:00                1   \n",
       "4           4  2022-11-20 23:58:28+00:00                0   \n",
       "\n",
       "       Source of Tweet                                              Tweet  \\\n",
       "0      Twitter Web App  What are we drinking today @TucanTribe \\n@MadB...   \n",
       "1   Twitter for iPhone  Amazing @CanadaSoccerEN  #WorldCup2022 launch ...   \n",
       "2   Twitter for iPhone  Worth reading while watching #WorldCup2022 htt...   \n",
       "3      Twitter Web App  Golden Maknae shinning bright\\n\\nhttps://t.co/...   \n",
       "4  Twitter for Android  If the BBC cares so much about human rights, h...   \n",
       "\n",
       "  Sentiment  \n",
       "0   neutral  \n",
       "1  positive  \n",
       "2  positive  \n",
       "3  positive  \n",
       "4  negative  "
      ]
     },
     "execution_count": 137,
     "metadata": {},
     "output_type": "execute_result"
    }
   ],
   "source": [
    "tweet_df.head()"
   ]
  },
  {
   "cell_type": "code",
   "execution_count": 138,
   "id": "8df37f5e",
   "metadata": {},
   "outputs": [],
   "source": [
    "postdf=tweet_df[['Tweet', 'Sentiment']]"
   ]
  },
  {
   "cell_type": "code",
   "execution_count": 139,
   "id": "d357bee9",
   "metadata": {},
   "outputs": [
    {
     "data": {
      "text/html": [
       "<div>\n",
       "<style scoped>\n",
       "    .dataframe tbody tr th:only-of-type {\n",
       "        vertical-align: middle;\n",
       "    }\n",
       "\n",
       "    .dataframe tbody tr th {\n",
       "        vertical-align: top;\n",
       "    }\n",
       "\n",
       "    .dataframe thead th {\n",
       "        text-align: right;\n",
       "    }\n",
       "</style>\n",
       "<table border=\"1\" class=\"dataframe\">\n",
       "  <thead>\n",
       "    <tr style=\"text-align: right;\">\n",
       "      <th></th>\n",
       "      <th>Tweet</th>\n",
       "      <th>Sentiment</th>\n",
       "    </tr>\n",
       "  </thead>\n",
       "  <tbody>\n",
       "    <tr>\n",
       "      <th>0</th>\n",
       "      <td>What are we drinking today @TucanTribe \\n@MadB...</td>\n",
       "      <td>neutral</td>\n",
       "    </tr>\n",
       "    <tr>\n",
       "      <th>1</th>\n",
       "      <td>Amazing @CanadaSoccerEN  #WorldCup2022 launch ...</td>\n",
       "      <td>positive</td>\n",
       "    </tr>\n",
       "    <tr>\n",
       "      <th>2</th>\n",
       "      <td>Worth reading while watching #WorldCup2022 htt...</td>\n",
       "      <td>positive</td>\n",
       "    </tr>\n",
       "    <tr>\n",
       "      <th>3</th>\n",
       "      <td>Golden Maknae shinning bright\\n\\nhttps://t.co/...</td>\n",
       "      <td>positive</td>\n",
       "    </tr>\n",
       "    <tr>\n",
       "      <th>4</th>\n",
       "      <td>If the BBC cares so much about human rights, h...</td>\n",
       "      <td>negative</td>\n",
       "    </tr>\n",
       "  </tbody>\n",
       "</table>\n",
       "</div>"
      ],
      "text/plain": [
       "                                               Tweet Sentiment\n",
       "0  What are we drinking today @TucanTribe \\n@MadB...   neutral\n",
       "1  Amazing @CanadaSoccerEN  #WorldCup2022 launch ...  positive\n",
       "2  Worth reading while watching #WorldCup2022 htt...  positive\n",
       "3  Golden Maknae shinning bright\\n\\nhttps://t.co/...  positive\n",
       "4  If the BBC cares so much about human rights, h...  negative"
      ]
     },
     "execution_count": 139,
     "metadata": {},
     "output_type": "execute_result"
    }
   ],
   "source": [
    "postdf.head()"
   ]
  },
  {
   "cell_type": "code",
   "execution_count": 140,
   "id": "26a1c54c",
   "metadata": {},
   "outputs": [
    {
     "name": "stdout",
     "output_type": "stream",
     "text": [
      "(22524, 2)\n"
     ]
    }
   ],
   "source": [
    "print(postdf.shape)"
   ]
  },
  {
   "cell_type": "code",
   "execution_count": 141,
   "id": "31bd7d11",
   "metadata": {},
   "outputs": [
    {
     "name": "stdout",
     "output_type": "stream",
     "text": [
      "<class 'pandas.core.frame.DataFrame'>\n",
      "RangeIndex: 22524 entries, 0 to 22523\n",
      "Data columns (total 2 columns):\n",
      " #   Column     Non-Null Count  Dtype \n",
      "---  ------     --------------  ----- \n",
      " 0   Tweet      22524 non-null  object\n",
      " 1   Sentiment  22524 non-null  object\n",
      "dtypes: object(2)\n",
      "memory usage: 352.1+ KB\n",
      "None\n"
     ]
    }
   ],
   "source": [
    "print(postdf.info())"
   ]
  },
  {
   "cell_type": "code",
   "execution_count": 142,
   "id": "c26cdbfb",
   "metadata": {},
   "outputs": [],
   "source": [
    "import nltk"
   ]
  },
  {
   "cell_type": "code",
   "execution_count": 143,
   "id": "4d14dc9c",
   "metadata": {},
   "outputs": [
    {
     "name": "stderr",
     "output_type": "stream",
     "text": [
      "[nltk_data] Downloading package stopwords to\n",
      "[nltk_data]     C:\\Users\\aarna\\AppData\\Roaming\\nltk_data...\n",
      "[nltk_data]   Package stopwords is already up-to-date!\n"
     ]
    },
    {
     "data": {
      "text/plain": [
       "True"
      ]
     },
     "execution_count": 143,
     "metadata": {},
     "output_type": "execute_result"
    }
   ],
   "source": [
    "nltk.download('stopwords')"
   ]
  },
  {
   "cell_type": "code",
   "execution_count": 144,
   "id": "5bdb56cc",
   "metadata": {},
   "outputs": [],
   "source": [
    "#removing stop words"
   ]
  },
  {
   "cell_type": "code",
   "execution_count": 145,
   "id": "fff8d9cd",
   "metadata": {},
   "outputs": [
    {
     "name": "stdout",
     "output_type": "stream",
     "text": [
      "0        What drinking today @TucanTribe @MadBears_ @lk...\n",
      "1        Amazing @CanadaSoccerEN #WorldCup2022 launch v...\n",
      "2        Worth reading watching #WorldCup2022 https://t...\n",
      "3        Golden Maknae shinning bright https://t.co/4Ay...\n",
      "4        If BBC cares much human rights, homosexual rig...\n",
      "                               ...                        \n",
      "22519              Here We go World cup 2022 #WorldCup2022\n",
      "22520    Anderlecht confirms former Viborg FF's Jesper ...\n",
      "22521    Great thread read start #WorldCup2022 https://...\n",
      "22522    Raphinha wants Brazil united #WorldCup2022 👊🇧🇷...\n",
      "22523    How buy $SOT PinkSale?🤔 Have confused buy toke...\n",
      "Name: Tweet_1, Length: 22524, dtype: object\n"
     ]
    },
    {
     "name": "stderr",
     "output_type": "stream",
     "text": [
      "C:\\Users\\aarna\\AppData\\Local\\Temp\\ipykernel_7408\\3275016233.py:5: SettingWithCopyWarning: \n",
      "A value is trying to be set on a copy of a slice from a DataFrame.\n",
      "Try using .loc[row_indexer,col_indexer] = value instead\n",
      "\n",
      "See the caveats in the documentation: https://pandas.pydata.org/pandas-docs/stable/user_guide/indexing.html#returning-a-view-versus-a-copy\n",
      "  cleantxt_1['Tweet_1']=cleantxt_1['Tweet'].apply(lambda x: ' '.join([word for word in x.split() if word not in (stop)]))\n"
     ]
    }
   ],
   "source": [
    "cleantxt_1=postdf\n",
    "from nltk.corpus import stopwords\n",
    "stop = stopwords.words(\"english\")\n",
    "\n",
    "cleantxt_1['Tweet_1']=cleantxt_1['Tweet'].apply(lambda x: ' '.join([word for word in x.split() if word not in (stop)]))\n",
    "print(cleantxt_1['Tweet_1'])"
   ]
  },
  {
   "cell_type": "code",
   "execution_count": 146,
   "id": "c1c6f899",
   "metadata": {},
   "outputs": [],
   "source": [
    "import csv,re"
   ]
  },
  {
   "cell_type": "code",
   "execution_count": 147,
   "id": "277d353d",
   "metadata": {},
   "outputs": [],
   "source": [
    "#removing special symbols and characters"
   ]
  },
  {
   "cell_type": "code",
   "execution_count": 148,
   "id": "1d9304b0",
   "metadata": {},
   "outputs": [
    {
     "name": "stderr",
     "output_type": "stream",
     "text": [
      "C:\\Users\\aarna\\AppData\\Local\\Temp\\ipykernel_7408\\514075001.py:7: SettingWithCopyWarning: \n",
      "A value is trying to be set on a copy of a slice from a DataFrame.\n",
      "Try using .loc[row_indexer,col_indexer] = value instead\n",
      "\n",
      "See the caveats in the documentation: https://pandas.pydata.org/pandas-docs/stable/user_guide/indexing.html#returning-a-view-versus-a-copy\n",
      "  cleantxt_1['Tweet_1']=cleantxt_1['Tweet_1'].apply(cleantxt)\n"
     ]
    }
   ],
   "source": [
    "def cleantxt(text):\n",
    "    text=re.sub(r\"(@[A-Za-z0-9_]+)|[^\\w\\s]|#|http\\S+\", \"\", text)\n",
    "    text=re.sub(r'_', '' ,text)\n",
    "    return text\n",
    "\n",
    "\n",
    "cleantxt_1['Tweet_1']=cleantxt_1['Tweet_1'].apply(cleantxt)"
   ]
  },
  {
   "cell_type": "code",
   "execution_count": 149,
   "id": "d43a87cb",
   "metadata": {},
   "outputs": [
    {
     "name": "stdout",
     "output_type": "stream",
     "text": [
      "0                    What drinking today     WorldCup2022 \n",
      "1        Amazing  WorldCup2022 launch video Shows much ...\n",
      "2                     Worth reading watching WorldCup2022 \n",
      "3        Golden Maknae shinning bright  JeonJungkook Ju...\n",
      "4        If BBC cares much human rights homosexual righ...\n",
      "                               ...                        \n",
      "22519               Here We go World cup 2022 WorldCup2022\n",
      "22520    Anderlecht confirms former Viborg FFs Jesper F...\n",
      "22521                Great thread read start WorldCup2022 \n",
      "22522          Raphinha wants Brazil united WorldCup2022  \n",
      "22523    How buy SOT PinkSale Have confused buy tokens ...\n",
      "Name: Tweet_1, Length: 22524, dtype: object\n"
     ]
    }
   ],
   "source": [
    "print(cleantxt_1['Tweet_1'])"
   ]
  },
  {
   "cell_type": "code",
   "execution_count": 150,
   "id": "c2002d63",
   "metadata": {},
   "outputs": [],
   "source": [
    "#stemming"
   ]
  },
  {
   "cell_type": "code",
   "execution_count": 151,
   "id": "b5d235af",
   "metadata": {},
   "outputs": [],
   "source": [
    "from nltk.stem.porter import PorterStemmer"
   ]
  },
  {
   "cell_type": "code",
   "execution_count": 152,
   "id": "7458450e",
   "metadata": {},
   "outputs": [
    {
     "name": "stdout",
     "output_type": "stream",
     "text": [
      "0                            what drink today worldcup2022\n",
      "1        amaz worldcup2022 launch video show much face ...\n",
      "2                            worth read watch worldcup2022\n",
      "3        golden makna shin bright jeonjungkook jungkook...\n",
      "4        if bbc care much human right homosexu right wo...\n",
      "                               ...                        \n",
      "22519               here we go world cup 2022 worldcup2022\n",
      "22520    anderlecht confirm former viborg ff jesper fre...\n",
      "22521                 great thread read start worldcup2022\n",
      "22522               raphinha want brazil unit worldcup2022\n",
      "22523    how buy sot pinksal have confus buy token pink...\n",
      "Name: Tweet_2, Length: 22524, dtype: object\n"
     ]
    },
    {
     "name": "stderr",
     "output_type": "stream",
     "text": [
      "C:\\Users\\aarna\\AppData\\Local\\Temp\\ipykernel_7408\\3488385892.py:2: SettingWithCopyWarning: \n",
      "A value is trying to be set on a copy of a slice from a DataFrame.\n",
      "Try using .loc[row_indexer,col_indexer] = value instead\n",
      "\n",
      "See the caveats in the documentation: https://pandas.pydata.org/pandas-docs/stable/user_guide/indexing.html#returning-a-view-versus-a-copy\n",
      "  cleantxt_1['Tweet_2'] = cleantxt_1['Tweet_1'].apply(lambda x: ' '.join([ps.stem(word) for word in x.split()]))\n"
     ]
    }
   ],
   "source": [
    "ps = PorterStemmer()\n",
    "cleantxt_1['Tweet_2'] = cleantxt_1['Tweet_1'].apply(lambda x: ' '.join([ps.stem(word) for word in x.split()]))\n",
    "\n",
    "print(cleantxt_1['Tweet_2'])\n"
   ]
  },
  {
   "cell_type": "code",
   "execution_count": 153,
   "id": "09302fa9",
   "metadata": {},
   "outputs": [],
   "source": [
    "#tokenization"
   ]
  },
  {
   "cell_type": "code",
   "execution_count": 154,
   "id": "7cb48ce1",
   "metadata": {},
   "outputs": [
    {
     "name": "stderr",
     "output_type": "stream",
     "text": [
      "[nltk_data] Downloading package averaged_perceptron_tagger to\n",
      "[nltk_data]     C:\\Users\\aarna\\AppData\\Roaming\\nltk_data...\n",
      "[nltk_data]   Package averaged_perceptron_tagger is already up-to-\n",
      "[nltk_data]       date!\n"
     ]
    },
    {
     "data": {
      "text/plain": [
       "True"
      ]
     },
     "execution_count": 154,
     "metadata": {},
     "output_type": "execute_result"
    }
   ],
   "source": [
    "from nltk.tokenize import  word_tokenize \n",
    "import nltk\n",
    "nltk.download('averaged_perceptron_tagger')\n"
   ]
  },
  {
   "cell_type": "code",
   "execution_count": 155,
   "id": "841a5e6b",
   "metadata": {},
   "outputs": [
    {
     "name": "stdout",
     "output_type": "stream",
     "text": [
      "0        [(what, WP), (drink, NN), (today, NN), (worldc...\n",
      "1        [(amaz, NN), (worldcup2022, NN), (launch, NN),...\n",
      "2        [(worth, JJ), (read, VB), (watch, NN), (worldc...\n",
      "3        [(golden, JJ), (makna, NN), (shin, NN), (brigh...\n",
      "4        [(if, IN), (bbc, VBN), (care, NN), (much, JJ),...\n",
      "                               ...                        \n",
      "22519    [(here, RB), (we, PRP), (go, VBP), (world, NN)...\n",
      "22520    [(anderlecht, RB), (confirm, JJ), (former, JJ)...\n",
      "22521    [(great, JJ), (thread, JJ), (read, JJ), (start...\n",
      "22522    [(raphinha, NN), (want, VBP), (brazil, NN), (u...\n",
      "22523    [(how, WRB), (buy, VB), (sot, JJ), (pinksal, N...\n",
      "Name: Tweet_3, Length: 22524, dtype: object\n"
     ]
    },
    {
     "name": "stderr",
     "output_type": "stream",
     "text": [
      "C:\\Users\\aarna\\AppData\\Local\\Temp\\ipykernel_7408\\3748671093.py:1: SettingWithCopyWarning: \n",
      "A value is trying to be set on a copy of a slice from a DataFrame.\n",
      "Try using .loc[row_indexer,col_indexer] = value instead\n",
      "\n",
      "See the caveats in the documentation: https://pandas.pydata.org/pandas-docs/stable/user_guide/indexing.html#returning-a-view-versus-a-copy\n",
      "  cleantxt_1['Tweet_3'] = cleantxt_1['Tweet_2'].apply(lambda x: nltk.pos_tag(nltk.word_tokenize(x)))\n"
     ]
    }
   ],
   "source": [
    "cleantxt_1['Tweet_3'] = cleantxt_1['Tweet_2'].apply(lambda x: nltk.pos_tag(nltk.word_tokenize(x)))\n",
    "\n",
    "print(cleantxt_1['Tweet_3'])"
   ]
  },
  {
   "cell_type": "code",
   "execution_count": 156,
   "id": "09ac954d",
   "metadata": {},
   "outputs": [],
   "source": [
    "#converting to lowercase"
   ]
  },
  {
   "cell_type": "code",
   "execution_count": 157,
   "id": "9f8e473e",
   "metadata": {},
   "outputs": [
    {
     "name": "stdout",
     "output_type": "stream",
     "text": [
      "0                            what drink today worldcup2022\n",
      "1        amaz worldcup2022 launch video show much face ...\n",
      "2                            worth read watch worldcup2022\n",
      "3        golden makna shin bright jeonjungkook jungkook...\n",
      "4        if bbc care much human right homosexu right wo...\n",
      "                               ...                        \n",
      "22519               here we go world cup 2022 worldcup2022\n",
      "22520    anderlecht confirm former viborg ff jesper fre...\n",
      "22521                 great thread read start worldcup2022\n",
      "22522               raphinha want brazil unit worldcup2022\n",
      "22523    how buy sot pinksal have confus buy token pink...\n",
      "Name: Tweet_4, Length: 22524, dtype: object\n"
     ]
    }
   ],
   "source": [
    "cleantxt_1['Tweet_4'] = cleantxt_1['Tweet_2'].apply(lambda x: ' '.join([word.lower() for word in x.split()]))\n",
    "\n",
    "print(cleantxt_1['Tweet_4'])"
   ]
  },
  {
   "cell_type": "code",
   "execution_count": 158,
   "id": "57a75efa",
   "metadata": {},
   "outputs": [
    {
     "data": {
      "text/html": [
       "<div>\n",
       "<style scoped>\n",
       "    .dataframe tbody tr th:only-of-type {\n",
       "        vertical-align: middle;\n",
       "    }\n",
       "\n",
       "    .dataframe tbody tr th {\n",
       "        vertical-align: top;\n",
       "    }\n",
       "\n",
       "    .dataframe thead th {\n",
       "        text-align: right;\n",
       "    }\n",
       "</style>\n",
       "<table border=\"1\" class=\"dataframe\">\n",
       "  <thead>\n",
       "    <tr style=\"text-align: right;\">\n",
       "      <th></th>\n",
       "      <th>Tweet</th>\n",
       "      <th>Sentiment</th>\n",
       "      <th>Tweet_1</th>\n",
       "      <th>Tweet_2</th>\n",
       "      <th>Tweet_3</th>\n",
       "      <th>Tweet_4</th>\n",
       "    </tr>\n",
       "  </thead>\n",
       "  <tbody>\n",
       "    <tr>\n",
       "      <th>0</th>\n",
       "      <td>What are we drinking today @TucanTribe \\n@MadB...</td>\n",
       "      <td>neutral</td>\n",
       "      <td>What drinking today     WorldCup2022</td>\n",
       "      <td>what drink today worldcup2022</td>\n",
       "      <td>[(what, WP), (drink, NN), (today, NN), (worldc...</td>\n",
       "      <td>what drink today worldcup2022</td>\n",
       "    </tr>\n",
       "    <tr>\n",
       "      <th>1</th>\n",
       "      <td>Amazing @CanadaSoccerEN  #WorldCup2022 launch ...</td>\n",
       "      <td>positive</td>\n",
       "      <td>Amazing  WorldCup2022 launch video Shows much ...</td>\n",
       "      <td>amaz worldcup2022 launch video show much face ...</td>\n",
       "      <td>[(amaz, NN), (worldcup2022, NN), (launch, NN),...</td>\n",
       "      <td>amaz worldcup2022 launch video show much face ...</td>\n",
       "    </tr>\n",
       "    <tr>\n",
       "      <th>2</th>\n",
       "      <td>Worth reading while watching #WorldCup2022 htt...</td>\n",
       "      <td>positive</td>\n",
       "      <td>Worth reading watching WorldCup2022</td>\n",
       "      <td>worth read watch worldcup2022</td>\n",
       "      <td>[(worth, JJ), (read, VB), (watch, NN), (worldc...</td>\n",
       "      <td>worth read watch worldcup2022</td>\n",
       "    </tr>\n",
       "    <tr>\n",
       "      <th>3</th>\n",
       "      <td>Golden Maknae shinning bright\\n\\nhttps://t.co/...</td>\n",
       "      <td>positive</td>\n",
       "      <td>Golden Maknae shinning bright  JeonJungkook Ju...</td>\n",
       "      <td>golden makna shin bright jeonjungkook jungkook...</td>\n",
       "      <td>[(golden, JJ), (makna, NN), (shin, NN), (brigh...</td>\n",
       "      <td>golden makna shin bright jeonjungkook jungkook...</td>\n",
       "    </tr>\n",
       "    <tr>\n",
       "      <th>4</th>\n",
       "      <td>If the BBC cares so much about human rights, h...</td>\n",
       "      <td>negative</td>\n",
       "      <td>If BBC cares much human rights homosexual righ...</td>\n",
       "      <td>if bbc care much human right homosexu right wo...</td>\n",
       "      <td>[(if, IN), (bbc, VBN), (care, NN), (much, JJ),...</td>\n",
       "      <td>if bbc care much human right homosexu right wo...</td>\n",
       "    </tr>\n",
       "    <tr>\n",
       "      <th>...</th>\n",
       "      <td>...</td>\n",
       "      <td>...</td>\n",
       "      <td>...</td>\n",
       "      <td>...</td>\n",
       "      <td>...</td>\n",
       "      <td>...</td>\n",
       "    </tr>\n",
       "    <tr>\n",
       "      <th>22519</th>\n",
       "      <td>Here We go World cup 2022 #WorldCup2022</td>\n",
       "      <td>positive</td>\n",
       "      <td>Here We go World cup 2022 WorldCup2022</td>\n",
       "      <td>here we go world cup 2022 worldcup2022</td>\n",
       "      <td>[(here, RB), (we, PRP), (go, VBP), (world, NN)...</td>\n",
       "      <td>here we go world cup 2022 worldcup2022</td>\n",
       "    </tr>\n",
       "    <tr>\n",
       "      <th>22520</th>\n",
       "      <td>Anderlecht confirms former Viborg FF's Jesper ...</td>\n",
       "      <td>neutral</td>\n",
       "      <td>Anderlecht confirms former Viborg FFs Jesper F...</td>\n",
       "      <td>anderlecht confirm former viborg ff jesper fre...</td>\n",
       "      <td>[(anderlecht, RB), (confirm, JJ), (former, JJ)...</td>\n",
       "      <td>anderlecht confirm former viborg ff jesper fre...</td>\n",
       "    </tr>\n",
       "    <tr>\n",
       "      <th>22521</th>\n",
       "      <td>Great thread to read before the start of #Worl...</td>\n",
       "      <td>positive</td>\n",
       "      <td>Great thread read start WorldCup2022</td>\n",
       "      <td>great thread read start worldcup2022</td>\n",
       "      <td>[(great, JJ), (thread, JJ), (read, JJ), (start...</td>\n",
       "      <td>great thread read start worldcup2022</td>\n",
       "    </tr>\n",
       "    <tr>\n",
       "      <th>22522</th>\n",
       "      <td>Raphinha wants Brazil to be united at the #Wor...</td>\n",
       "      <td>positive</td>\n",
       "      <td>Raphinha wants Brazil united WorldCup2022</td>\n",
       "      <td>raphinha want brazil unit worldcup2022</td>\n",
       "      <td>[(raphinha, NN), (want, VBP), (brazil, NN), (u...</td>\n",
       "      <td>raphinha want brazil unit worldcup2022</td>\n",
       "    </tr>\n",
       "    <tr>\n",
       "      <th>22523</th>\n",
       "      <td>How to buy $SOT on PinkSale?🤔\\n\\nHave you been...</td>\n",
       "      <td>neutral</td>\n",
       "      <td>How buy SOT PinkSale Have confused buy tokens ...</td>\n",
       "      <td>how buy sot pinksal have confus buy token pink...</td>\n",
       "      <td>[(how, WRB), (buy, VB), (sot, JJ), (pinksal, N...</td>\n",
       "      <td>how buy sot pinksal have confus buy token pink...</td>\n",
       "    </tr>\n",
       "  </tbody>\n",
       "</table>\n",
       "<p>22524 rows × 6 columns</p>\n",
       "</div>"
      ],
      "text/plain": [
       "                                                   Tweet Sentiment  \\\n",
       "0      What are we drinking today @TucanTribe \\n@MadB...   neutral   \n",
       "1      Amazing @CanadaSoccerEN  #WorldCup2022 launch ...  positive   \n",
       "2      Worth reading while watching #WorldCup2022 htt...  positive   \n",
       "3      Golden Maknae shinning bright\\n\\nhttps://t.co/...  positive   \n",
       "4      If the BBC cares so much about human rights, h...  negative   \n",
       "...                                                  ...       ...   \n",
       "22519            Here We go World cup 2022 #WorldCup2022  positive   \n",
       "22520  Anderlecht confirms former Viborg FF's Jesper ...   neutral   \n",
       "22521  Great thread to read before the start of #Worl...  positive   \n",
       "22522  Raphinha wants Brazil to be united at the #Wor...  positive   \n",
       "22523  How to buy $SOT on PinkSale?🤔\\n\\nHave you been...   neutral   \n",
       "\n",
       "                                                 Tweet_1  \\\n",
       "0                  What drinking today     WorldCup2022    \n",
       "1      Amazing  WorldCup2022 launch video Shows much ...   \n",
       "2                   Worth reading watching WorldCup2022    \n",
       "3      Golden Maknae shinning bright  JeonJungkook Ju...   \n",
       "4      If BBC cares much human rights homosexual righ...   \n",
       "...                                                  ...   \n",
       "22519             Here We go World cup 2022 WorldCup2022   \n",
       "22520  Anderlecht confirms former Viborg FFs Jesper F...   \n",
       "22521              Great thread read start WorldCup2022    \n",
       "22522        Raphinha wants Brazil united WorldCup2022     \n",
       "22523  How buy SOT PinkSale Have confused buy tokens ...   \n",
       "\n",
       "                                                 Tweet_2  \\\n",
       "0                          what drink today worldcup2022   \n",
       "1      amaz worldcup2022 launch video show much face ...   \n",
       "2                          worth read watch worldcup2022   \n",
       "3      golden makna shin bright jeonjungkook jungkook...   \n",
       "4      if bbc care much human right homosexu right wo...   \n",
       "...                                                  ...   \n",
       "22519             here we go world cup 2022 worldcup2022   \n",
       "22520  anderlecht confirm former viborg ff jesper fre...   \n",
       "22521               great thread read start worldcup2022   \n",
       "22522             raphinha want brazil unit worldcup2022   \n",
       "22523  how buy sot pinksal have confus buy token pink...   \n",
       "\n",
       "                                                 Tweet_3  \\\n",
       "0      [(what, WP), (drink, NN), (today, NN), (worldc...   \n",
       "1      [(amaz, NN), (worldcup2022, NN), (launch, NN),...   \n",
       "2      [(worth, JJ), (read, VB), (watch, NN), (worldc...   \n",
       "3      [(golden, JJ), (makna, NN), (shin, NN), (brigh...   \n",
       "4      [(if, IN), (bbc, VBN), (care, NN), (much, JJ),...   \n",
       "...                                                  ...   \n",
       "22519  [(here, RB), (we, PRP), (go, VBP), (world, NN)...   \n",
       "22520  [(anderlecht, RB), (confirm, JJ), (former, JJ)...   \n",
       "22521  [(great, JJ), (thread, JJ), (read, JJ), (start...   \n",
       "22522  [(raphinha, NN), (want, VBP), (brazil, NN), (u...   \n",
       "22523  [(how, WRB), (buy, VB), (sot, JJ), (pinksal, N...   \n",
       "\n",
       "                                                 Tweet_4  \n",
       "0                          what drink today worldcup2022  \n",
       "1      amaz worldcup2022 launch video show much face ...  \n",
       "2                          worth read watch worldcup2022  \n",
       "3      golden makna shin bright jeonjungkook jungkook...  \n",
       "4      if bbc care much human right homosexu right wo...  \n",
       "...                                                  ...  \n",
       "22519             here we go world cup 2022 worldcup2022  \n",
       "22520  anderlecht confirm former viborg ff jesper fre...  \n",
       "22521               great thread read start worldcup2022  \n",
       "22522             raphinha want brazil unit worldcup2022  \n",
       "22523  how buy sot pinksal have confus buy token pink...  \n",
       "\n",
       "[22524 rows x 6 columns]"
      ]
     },
     "execution_count": 158,
     "metadata": {},
     "output_type": "execute_result"
    }
   ],
   "source": [
    "cleantxt_1"
   ]
  },
  {
   "cell_type": "code",
   "execution_count": 159,
   "id": "6f5884cf",
   "metadata": {},
   "outputs": [],
   "source": [
    "fifadf=cleantxt_1[['Tweet_4', 'Sentiment']]"
   ]
  },
  {
   "cell_type": "code",
   "execution_count": 160,
   "id": "9763c5f8",
   "metadata": {},
   "outputs": [],
   "source": [
    "#cleaned dataset"
   ]
  },
  {
   "cell_type": "code",
   "execution_count": 161,
   "id": "32d67eb2",
   "metadata": {},
   "outputs": [
    {
     "data": {
      "text/html": [
       "<div>\n",
       "<style scoped>\n",
       "    .dataframe tbody tr th:only-of-type {\n",
       "        vertical-align: middle;\n",
       "    }\n",
       "\n",
       "    .dataframe tbody tr th {\n",
       "        vertical-align: top;\n",
       "    }\n",
       "\n",
       "    .dataframe thead th {\n",
       "        text-align: right;\n",
       "    }\n",
       "</style>\n",
       "<table border=\"1\" class=\"dataframe\">\n",
       "  <thead>\n",
       "    <tr style=\"text-align: right;\">\n",
       "      <th></th>\n",
       "      <th>Tweet_4</th>\n",
       "      <th>Sentiment</th>\n",
       "    </tr>\n",
       "  </thead>\n",
       "  <tbody>\n",
       "    <tr>\n",
       "      <th>0</th>\n",
       "      <td>what drink today worldcup2022</td>\n",
       "      <td>neutral</td>\n",
       "    </tr>\n",
       "    <tr>\n",
       "      <th>1</th>\n",
       "      <td>amaz worldcup2022 launch video show much face ...</td>\n",
       "      <td>positive</td>\n",
       "    </tr>\n",
       "    <tr>\n",
       "      <th>2</th>\n",
       "      <td>worth read watch worldcup2022</td>\n",
       "      <td>positive</td>\n",
       "    </tr>\n",
       "    <tr>\n",
       "      <th>3</th>\n",
       "      <td>golden makna shin bright jeonjungkook jungkook...</td>\n",
       "      <td>positive</td>\n",
       "    </tr>\n",
       "    <tr>\n",
       "      <th>4</th>\n",
       "      <td>if bbc care much human right homosexu right wo...</td>\n",
       "      <td>negative</td>\n",
       "    </tr>\n",
       "    <tr>\n",
       "      <th>...</th>\n",
       "      <td>...</td>\n",
       "      <td>...</td>\n",
       "    </tr>\n",
       "    <tr>\n",
       "      <th>22519</th>\n",
       "      <td>here we go world cup 2022 worldcup2022</td>\n",
       "      <td>positive</td>\n",
       "    </tr>\n",
       "    <tr>\n",
       "      <th>22520</th>\n",
       "      <td>anderlecht confirm former viborg ff jesper fre...</td>\n",
       "      <td>neutral</td>\n",
       "    </tr>\n",
       "    <tr>\n",
       "      <th>22521</th>\n",
       "      <td>great thread read start worldcup2022</td>\n",
       "      <td>positive</td>\n",
       "    </tr>\n",
       "    <tr>\n",
       "      <th>22522</th>\n",
       "      <td>raphinha want brazil unit worldcup2022</td>\n",
       "      <td>positive</td>\n",
       "    </tr>\n",
       "    <tr>\n",
       "      <th>22523</th>\n",
       "      <td>how buy sot pinksal have confus buy token pink...</td>\n",
       "      <td>neutral</td>\n",
       "    </tr>\n",
       "  </tbody>\n",
       "</table>\n",
       "<p>22524 rows × 2 columns</p>\n",
       "</div>"
      ],
      "text/plain": [
       "                                                 Tweet_4 Sentiment\n",
       "0                          what drink today worldcup2022   neutral\n",
       "1      amaz worldcup2022 launch video show much face ...  positive\n",
       "2                          worth read watch worldcup2022  positive\n",
       "3      golden makna shin bright jeonjungkook jungkook...  positive\n",
       "4      if bbc care much human right homosexu right wo...  negative\n",
       "...                                                  ...       ...\n",
       "22519             here we go world cup 2022 worldcup2022  positive\n",
       "22520  anderlecht confirm former viborg ff jesper fre...   neutral\n",
       "22521               great thread read start worldcup2022  positive\n",
       "22522             raphinha want brazil unit worldcup2022  positive\n",
       "22523  how buy sot pinksal have confus buy token pink...   neutral\n",
       "\n",
       "[22524 rows x 2 columns]"
      ]
     },
     "execution_count": 161,
     "metadata": {},
     "output_type": "execute_result"
    }
   ],
   "source": [
    "fifadf"
   ]
  },
  {
   "cell_type": "code",
   "execution_count": 162,
   "id": "3d4fcd61",
   "metadata": {},
   "outputs": [],
   "source": [
    "#sentiment analysis"
   ]
  },
  {
   "cell_type": "code",
   "execution_count": 163,
   "id": "9c814bd6",
   "metadata": {},
   "outputs": [
    {
     "name": "stderr",
     "output_type": "stream",
     "text": [
      "C:\\Users\\aarna\\AppData\\Local\\Temp\\ipykernel_7408\\82416357.py:1: SettingWithCopyWarning: \n",
      "A value is trying to be set on a copy of a slice from a DataFrame.\n",
      "Try using .loc[row_indexer,col_indexer] = value instead\n",
      "\n",
      "See the caveats in the documentation: https://pandas.pydata.org/pandas-docs/stable/user_guide/indexing.html#returning-a-view-versus-a-copy\n",
      "  fifadf['Sentiment'] = fifadf['Sentiment'].map({'positive': 1 , 'negative': -1 , 'neutral': 0})\n"
     ]
    }
   ],
   "source": [
    "fifadf['Sentiment'] = fifadf['Sentiment'].map({'positive': 1 , 'negative': -1 , 'neutral': 0})"
   ]
  },
  {
   "cell_type": "code",
   "execution_count": 164,
   "id": "d0593dd3",
   "metadata": {
    "scrolled": true
   },
   "outputs": [
    {
     "data": {
      "text/html": [
       "<div>\n",
       "<style scoped>\n",
       "    .dataframe tbody tr th:only-of-type {\n",
       "        vertical-align: middle;\n",
       "    }\n",
       "\n",
       "    .dataframe tbody tr th {\n",
       "        vertical-align: top;\n",
       "    }\n",
       "\n",
       "    .dataframe thead th {\n",
       "        text-align: right;\n",
       "    }\n",
       "</style>\n",
       "<table border=\"1\" class=\"dataframe\">\n",
       "  <thead>\n",
       "    <tr style=\"text-align: right;\">\n",
       "      <th></th>\n",
       "      <th>Tweet_4</th>\n",
       "      <th>Sentiment</th>\n",
       "    </tr>\n",
       "  </thead>\n",
       "  <tbody>\n",
       "    <tr>\n",
       "      <th>0</th>\n",
       "      <td>what drink today worldcup2022</td>\n",
       "      <td>0</td>\n",
       "    </tr>\n",
       "    <tr>\n",
       "      <th>1</th>\n",
       "      <td>amaz worldcup2022 launch video show much face ...</td>\n",
       "      <td>1</td>\n",
       "    </tr>\n",
       "    <tr>\n",
       "      <th>2</th>\n",
       "      <td>worth read watch worldcup2022</td>\n",
       "      <td>1</td>\n",
       "    </tr>\n",
       "    <tr>\n",
       "      <th>3</th>\n",
       "      <td>golden makna shin bright jeonjungkook jungkook...</td>\n",
       "      <td>1</td>\n",
       "    </tr>\n",
       "    <tr>\n",
       "      <th>4</th>\n",
       "      <td>if bbc care much human right homosexu right wo...</td>\n",
       "      <td>-1</td>\n",
       "    </tr>\n",
       "    <tr>\n",
       "      <th>...</th>\n",
       "      <td>...</td>\n",
       "      <td>...</td>\n",
       "    </tr>\n",
       "    <tr>\n",
       "      <th>22519</th>\n",
       "      <td>here we go world cup 2022 worldcup2022</td>\n",
       "      <td>1</td>\n",
       "    </tr>\n",
       "    <tr>\n",
       "      <th>22520</th>\n",
       "      <td>anderlecht confirm former viborg ff jesper fre...</td>\n",
       "      <td>0</td>\n",
       "    </tr>\n",
       "    <tr>\n",
       "      <th>22521</th>\n",
       "      <td>great thread read start worldcup2022</td>\n",
       "      <td>1</td>\n",
       "    </tr>\n",
       "    <tr>\n",
       "      <th>22522</th>\n",
       "      <td>raphinha want brazil unit worldcup2022</td>\n",
       "      <td>1</td>\n",
       "    </tr>\n",
       "    <tr>\n",
       "      <th>22523</th>\n",
       "      <td>how buy sot pinksal have confus buy token pink...</td>\n",
       "      <td>0</td>\n",
       "    </tr>\n",
       "  </tbody>\n",
       "</table>\n",
       "<p>22524 rows × 2 columns</p>\n",
       "</div>"
      ],
      "text/plain": [
       "                                                 Tweet_4  Sentiment\n",
       "0                          what drink today worldcup2022          0\n",
       "1      amaz worldcup2022 launch video show much face ...          1\n",
       "2                          worth read watch worldcup2022          1\n",
       "3      golden makna shin bright jeonjungkook jungkook...          1\n",
       "4      if bbc care much human right homosexu right wo...         -1\n",
       "...                                                  ...        ...\n",
       "22519             here we go world cup 2022 worldcup2022          1\n",
       "22520  anderlecht confirm former viborg ff jesper fre...          0\n",
       "22521               great thread read start worldcup2022          1\n",
       "22522             raphinha want brazil unit worldcup2022          1\n",
       "22523  how buy sot pinksal have confus buy token pink...          0\n",
       "\n",
       "[22524 rows x 2 columns]"
      ]
     },
     "execution_count": 164,
     "metadata": {},
     "output_type": "execute_result"
    }
   ],
   "source": [
    "fifadf"
   ]
  },
  {
   "cell_type": "code",
   "execution_count": 165,
   "id": "e5ed6639",
   "metadata": {},
   "outputs": [],
   "source": [
    "from sklearn.feature_extraction.text import TfidfVectorizer\n",
    "from sklearn.model_selection import train_test_split\n",
    "from sklearn.svm import LinearSVC\n",
    "from sklearn.metrics import classification_report"
   ]
  },
  {
   "cell_type": "code",
   "execution_count": 166,
   "id": "6fe5264f",
   "metadata": {},
   "outputs": [],
   "source": [
    "X = fifadf['Tweet_4']\n",
    "tfidf = TfidfVectorizer(max_features=10000, ngram_range=(1,1))\n",
    "X = tfidf.fit_transform(X)\n",
    "y = fifadf['Sentiment']"
   ]
  },
  {
   "cell_type": "code",
   "execution_count": 167,
   "id": "dd99b7cb",
   "metadata": {},
   "outputs": [
    {
     "data": {
      "text/plain": [
       "(22524, 10000)"
      ]
     },
     "execution_count": 167,
     "metadata": {},
     "output_type": "execute_result"
    }
   ],
   "source": [
    "X.shape"
   ]
  },
  {
   "cell_type": "code",
   "execution_count": 168,
   "id": "abb7ad8b",
   "metadata": {},
   "outputs": [],
   "source": [
    "X_train, X_test, y_train, y_test = train_test_split(X, y, test_size = 0.2, random_state=0)"
   ]
  },
  {
   "cell_type": "code",
   "execution_count": 169,
   "id": "5a7ad652",
   "metadata": {},
   "outputs": [
    {
     "data": {
      "text/plain": [
       "((18019, 10000), (4505, 10000))"
      ]
     },
     "execution_count": 169,
     "metadata": {},
     "output_type": "execute_result"
    }
   ],
   "source": [
    "X_train.shape, X_test.shape"
   ]
  },
  {
   "cell_type": "code",
   "execution_count": 170,
   "id": "86d6cdb3",
   "metadata": {},
   "outputs": [
    {
     "data": {
      "text/html": [
       "<style>#sk-container-id-4 {color: black;background-color: white;}#sk-container-id-4 pre{padding: 0;}#sk-container-id-4 div.sk-toggleable {background-color: white;}#sk-container-id-4 label.sk-toggleable__label {cursor: pointer;display: block;width: 100%;margin-bottom: 0;padding: 0.3em;box-sizing: border-box;text-align: center;}#sk-container-id-4 label.sk-toggleable__label-arrow:before {content: \"▸\";float: left;margin-right: 0.25em;color: #696969;}#sk-container-id-4 label.sk-toggleable__label-arrow:hover:before {color: black;}#sk-container-id-4 div.sk-estimator:hover label.sk-toggleable__label-arrow:before {color: black;}#sk-container-id-4 div.sk-toggleable__content {max-height: 0;max-width: 0;overflow: hidden;text-align: left;background-color: #f0f8ff;}#sk-container-id-4 div.sk-toggleable__content pre {margin: 0.2em;color: black;border-radius: 0.25em;background-color: #f0f8ff;}#sk-container-id-4 input.sk-toggleable__control:checked~div.sk-toggleable__content {max-height: 200px;max-width: 100%;overflow: auto;}#sk-container-id-4 input.sk-toggleable__control:checked~label.sk-toggleable__label-arrow:before {content: \"▾\";}#sk-container-id-4 div.sk-estimator input.sk-toggleable__control:checked~label.sk-toggleable__label {background-color: #d4ebff;}#sk-container-id-4 div.sk-label input.sk-toggleable__control:checked~label.sk-toggleable__label {background-color: #d4ebff;}#sk-container-id-4 input.sk-hidden--visually {border: 0;clip: rect(1px 1px 1px 1px);clip: rect(1px, 1px, 1px, 1px);height: 1px;margin: -1px;overflow: hidden;padding: 0;position: absolute;width: 1px;}#sk-container-id-4 div.sk-estimator {font-family: monospace;background-color: #f0f8ff;border: 1px dotted black;border-radius: 0.25em;box-sizing: border-box;margin-bottom: 0.5em;}#sk-container-id-4 div.sk-estimator:hover {background-color: #d4ebff;}#sk-container-id-4 div.sk-parallel-item::after {content: \"\";width: 100%;border-bottom: 1px solid gray;flex-grow: 1;}#sk-container-id-4 div.sk-label:hover label.sk-toggleable__label {background-color: #d4ebff;}#sk-container-id-4 div.sk-serial::before {content: \"\";position: absolute;border-left: 1px solid gray;box-sizing: border-box;top: 0;bottom: 0;left: 50%;z-index: 0;}#sk-container-id-4 div.sk-serial {display: flex;flex-direction: column;align-items: center;background-color: white;padding-right: 0.2em;padding-left: 0.2em;position: relative;}#sk-container-id-4 div.sk-item {position: relative;z-index: 1;}#sk-container-id-4 div.sk-parallel {display: flex;align-items: stretch;justify-content: center;background-color: white;position: relative;}#sk-container-id-4 div.sk-item::before, #sk-container-id-4 div.sk-parallel-item::before {content: \"\";position: absolute;border-left: 1px solid gray;box-sizing: border-box;top: 0;bottom: 0;left: 50%;z-index: -1;}#sk-container-id-4 div.sk-parallel-item {display: flex;flex-direction: column;z-index: 1;position: relative;background-color: white;}#sk-container-id-4 div.sk-parallel-item:first-child::after {align-self: flex-end;width: 50%;}#sk-container-id-4 div.sk-parallel-item:last-child::after {align-self: flex-start;width: 50%;}#sk-container-id-4 div.sk-parallel-item:only-child::after {width: 0;}#sk-container-id-4 div.sk-dashed-wrapped {border: 1px dashed gray;margin: 0 0.4em 0.5em 0.4em;box-sizing: border-box;padding-bottom: 0.4em;background-color: white;}#sk-container-id-4 div.sk-label label {font-family: monospace;font-weight: bold;display: inline-block;line-height: 1.2em;}#sk-container-id-4 div.sk-label-container {text-align: center;}#sk-container-id-4 div.sk-container {/* jupyter's `normalize.less` sets `[hidden] { display: none; }` but bootstrap.min.css set `[hidden] { display: none !important; }` so we also need the `!important` here to be able to override the default hidden behavior on the sphinx rendered scikit-learn.org. See: https://github.com/scikit-learn/scikit-learn/issues/21755 */display: inline-block !important;position: relative;}#sk-container-id-4 div.sk-text-repr-fallback {display: none;}</style><div id=\"sk-container-id-4\" class=\"sk-top-container\"><div class=\"sk-text-repr-fallback\"><pre>LinearSVC()</pre><b>In a Jupyter environment, please rerun this cell to show the HTML representation or trust the notebook. <br />On GitHub, the HTML representation is unable to render, please try loading this page with nbviewer.org.</b></div><div class=\"sk-container\" hidden><div class=\"sk-item\"><div class=\"sk-estimator sk-toggleable\"><input class=\"sk-toggleable__control sk-hidden--visually\" id=\"sk-estimator-id-4\" type=\"checkbox\" checked><label for=\"sk-estimator-id-4\" class=\"sk-toggleable__label sk-toggleable__label-arrow\">LinearSVC</label><div class=\"sk-toggleable__content\"><pre>LinearSVC()</pre></div></div></div></div></div>"
      ],
      "text/plain": [
       "LinearSVC()"
      ]
     },
     "execution_count": 170,
     "metadata": {},
     "output_type": "execute_result"
    }
   ],
   "source": [
    "clf = LinearSVC()\n",
    "clf.fit(X_train, y_train)"
   ]
  },
  {
   "cell_type": "code",
   "execution_count": 171,
   "id": "8a54fbd2",
   "metadata": {},
   "outputs": [],
   "source": [
    "y_pred = clf.predict(X_test)"
   ]
  },
  {
   "cell_type": "code",
   "execution_count": 172,
   "id": "e031ade1",
   "metadata": {},
   "outputs": [
    {
     "name": "stdout",
     "output_type": "stream",
     "text": [
      "              precision    recall  f1-score   support\n",
      "\n",
      "          -1       0.76      0.71      0.73      1146\n",
      "           0       0.69      0.72      0.71      1673\n",
      "           1       0.76      0.76      0.76      1686\n",
      "\n",
      "    accuracy                           0.73      4505\n",
      "   macro avg       0.74      0.73      0.73      4505\n",
      "weighted avg       0.73      0.73      0.73      4505\n",
      "\n"
     ]
    }
   ],
   "source": [
    "print(classification_report(y_test, y_pred))"
   ]
  },
  {
   "cell_type": "code",
   "execution_count": 173,
   "id": "a8a2cb7d",
   "metadata": {},
   "outputs": [],
   "source": [
    "def predict(str):\n",
    "    vec = tfidf.transform([str])\n",
    "    return clf.predict(vec)\n",
    "    \n",
    "    \n",
    "    \n",
    "    "
   ]
  },
  {
   "cell_type": "code",
   "execution_count": 174,
   "id": "09b9e4ef",
   "metadata": {},
   "outputs": [
    {
     "data": {
      "text/plain": [
       "array([-1], dtype=int64)"
      ]
     },
     "execution_count": 174,
     "metadata": {},
     "output_type": "execute_result"
    }
   ],
   "source": [
    "predict('i just hate anonymous comments from critics')"
   ]
  },
  {
   "cell_type": "code",
   "execution_count": 175,
   "id": "a2d3972d",
   "metadata": {},
   "outputs": [
    {
     "data": {
      "text/plain": [
       "array([1], dtype=int64)"
      ]
     },
     "execution_count": 175,
     "metadata": {},
     "output_type": "execute_result"
    }
   ],
   "source": [
    "predict('wow what an amazing goal by messi')"
   ]
  },
  {
   "cell_type": "code",
   "execution_count": 176,
   "id": "45e168bb",
   "metadata": {},
   "outputs": [
    {
     "data": {
      "text/plain": [
       "array([0], dtype=int64)"
      ]
     },
     "execution_count": 176,
     "metadata": {},
     "output_type": "execute_result"
    }
   ],
   "source": [
    "predict('there was some confusion during match')"
   ]
  },
  {
   "cell_type": "code",
   "execution_count": null,
   "id": "a0633668",
   "metadata": {},
   "outputs": [],
   "source": []
  }
 ],
 "metadata": {
  "kernelspec": {
   "display_name": "Python 3 (ipykernel)",
   "language": "python",
   "name": "python3"
  },
  "language_info": {
   "codemirror_mode": {
    "name": "ipython",
    "version": 3
   },
   "file_extension": ".py",
   "mimetype": "text/x-python",
   "name": "python",
   "nbconvert_exporter": "python",
   "pygments_lexer": "ipython3",
   "version": "3.10.7"
  }
 },
 "nbformat": 4,
 "nbformat_minor": 5
}
